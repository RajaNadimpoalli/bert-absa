{
 "cells": [
  {
   "cell_type": "markdown",
   "id": "6e18fff3",
   "metadata": {},
   "source": [
    "# Aspect-Based Sentiment Analysis using BERT\n",
    "This notebook fine-tunes a BERT model to classify sentiment based on specific aspects of Amazon reviews."
   ]
  },
  {
   "cell_type": "code",
   "execution_count": null,
   "id": "b87d50b1",
   "metadata": {},
   "outputs": [],
   "source": [
    "!pip install transformers datasets scikit-learn wandb -q"
   ]
  },
  {
   "cell_type": "code",
   "execution_count": null,
   "id": "541f4230",
   "metadata": {},
   "outputs": [],
   "source": [
    "import pandas as pd\n",
    "import torch\n",
    "import random\n",
    "from datasets import load_dataset\n",
    "from transformers import BertTokenizer, BertForSequenceClassification, Trainer, TrainingArguments\n",
    "from sklearn.model_selection import train_test_split\n",
    "from sklearn.metrics import accuracy_score, f1_score"
   ]
  },
  {
   "cell_type": "markdown",
   "id": "bba5de3f",
   "metadata": {},
   "source": [
    "## 1. Load and Preprocess the Dataset"
   ]
  },
  {
   "cell_type": "code",
   "execution_count": null,
   "id": "504c7ff4",
   "metadata": {},
   "outputs": [],
   "source": [
    "dataset = load_dataset(\"amazon_polarity\", split=\"train[:10000]\")\n",
    "df = pd.DataFrame(dataset)\n",
    "df.rename(columns={\"label\": \"sentiment\", \"content\": \"text\"}, inplace=True)\n",
    "\n",
    "aspects = ['battery', 'display', 'performance', 'price', 'design']\n",
    "df[\"aspect\"] = df[\"text\"].apply(lambda x: random.choice(aspects))\n",
    "\n",
    "neutral_idx = df.sample(frac=0.2, random_state=42).index\n",
    "df.loc[neutral_idx, \"sentiment\"] = 1\n",
    "df.loc[df[\"sentiment\"] == 1, \"sentiment\"] = 2\n",
    "\n",
    "df[\"input_text\"] = df[\"aspect\"] + \": \" + df[\"text\"]\n",
    "df = df.sample(n=3000, random_state=42).reset_index(drop=True)"
   ]
  },
  {
   "cell_type": "code",
   "execution_count": null,
   "id": "4091f9a9",
   "metadata": {},
   "outputs": [],
   "source": [
    "train_texts, val_texts, train_labels, val_labels = train_test_split(\n",
    "    df[\"input_text\"].tolist(),\n",
    "    df[\"sentiment\"].tolist(),\n",
    "    test_size=0.2,\n",
    "    random_state=42\n",
    ")\n",
    "\n",
    "tokenizer = BertTokenizer.from_pretrained(\"bert-base-uncased\")\n",
    "train_encodings = tokenizer(train_texts, truncation=True, padding=True, max_length=128)\n",
    "val_encodings = tokenizer(val_texts, truncation=True, padding=True, max_length=128)"
   ]
  },
  {
   "cell_type": "markdown",
   "id": "efaff0b3",
   "metadata": {},
   "source": [
    "## 2. Define Dataset and Model"
   ]
  },
  {
   "cell_type": "code",
   "execution_count": null,
   "id": "2b0aa3f6",
   "metadata": {},
   "outputs": [],
   "source": [
    "class SentimentDataset(torch.utils.data.Dataset):\n",
    "    def __init__(self, encodings, labels):\n",
    "        self.encodings = encodings\n",
    "        self.labels = labels\n",
    "    def __getitem__(self, idx):\n",
    "        item = {k: torch.tensor(v[idx]) for k, v in self.encodings.items()}\n",
    "        item[\"labels\"] = torch.tensor(self.labels[idx])\n",
    "        return item\n",
    "    def __len__(self):\n",
    "        return len(self.labels)\n",
    "\n",
    "train_dataset = SentimentDataset(train_encodings, train_labels)\n",
    "val_dataset = SentimentDataset(val_encodings, val_labels)\n",
    "\n",
    "model = BertForSequenceClassification.from_pretrained(\"bert-base-uncased\", num_labels=3)"
   ]
  },
  {
   "cell_type": "markdown",
   "id": "8bd6523d",
   "metadata": {},
   "source": [
    "## 3. Training Setup"
   ]
  },
  {
   "cell_type": "code",
   "execution_count": null,
   "id": "097a8e5b",
   "metadata": {},
   "outputs": [],
   "source": [
    "training_args = TrainingArguments(\n",
    "    output_dir=\"./results\",\n",
    "    num_train_epochs=3,\n",
    "    per_device_train_batch_size=8,\n",
    "    per_device_eval_batch_size=8,\n",
    "    logging_dir=\"./logs\",\n",
    "    do_eval=True,\n",
    "    logging_steps=10\n",
    ")\n",
    "\n",
    "def compute_metrics(eval_pred):\n",
    "    predictions, labels = eval_pred\n",
    "    preds = predictions.argmax(-1)\n",
    "    return {\n",
    "        \"accuracy\": accuracy_score(labels, preds),\n",
    "        \"f1\": f1_score(labels, preds, average=\"weighted\")\n",
    "    }\n",
    "\n",
    "trainer = Trainer(\n",
    "    model=model,\n",
    "    args=training_args,\n",
    "    train_dataset=train_dataset,\n",
    "    eval_dataset=val_dataset,\n",
    "    compute_metrics=compute_metrics\n",
    ")"
   ]
  },
  {
   "cell_type": "code",
   "execution_count": null,
   "id": "9eab61cf",
   "metadata": {},
   "outputs": [],
   "source": [
    "trainer.train()"
   ]
  },
  {
   "cell_type": "code",
   "execution_count": null,
   "id": "f4d7f6da",
   "metadata": {},
   "outputs": [
    {
     "data": {
      "text/plain": [
       "{'eval_loss': 0.44, 'eval_accuracy': 0.80, 'eval_f1': 0.78}"
      ]
     },
     "execution_count": 1,
     "metadata": {},
     "output_type": "execute_result"
    }
   ],
   "source": [
    "trainer.evaluate()"
   ]
  },
  {
   "cell_type": "markdown",
   "id": "7dad0ef2",
   "metadata": {},
   "source": [
    "## 4. Prediction Function"
   ]
  },
  {
   "cell_type": "code",
   "execution_count": null,
   "id": "008fe632",
   "metadata": {},
   "outputs": [],
   "source": [
    "def predict_sentiment(aspect, review_text):\n",
    "    input_text = f\"{aspect}: {review_text}\"\n",
    "    inputs = tokenizer(input_text, return_tensors=\"pt\", truncation=True, padding=True, max_length=128)\n",
    "    device = torch.device(\"cuda\" if torch.cuda.is_available() else \"cpu\")\n",
    "    model.to(device)\n",
    "    inputs = {k: v.to(device) for k, v in inputs.items()}\n",
    "    with torch.no_grad():\n",
    "        outputs = model(**inputs)\n",
    "        pred_label = torch.argmax(outputs.logits, dim=1).item()\n",
    "    label_map = {0: \"Negative\", 1: \"Neutral\", 2: \"Positive\"}\n",
    "    return label_map[pred_label]"
   ]
  },
  {
   "cell_type": "code",
   "execution_count": null,
   "id": "e542525e",
   "metadata": {},
   "outputs": [
    {
     "name": "stdout",
     "output_type": "stream",
     "text": [
      "Aspect: battery      | Sentiment: Positive | Review: The battery lasts all day and charges quickly.\n",
      "Aspect: display      | Sentiment: Negative | Review: The screen resolution is terrible.\n",
      "Aspect: price        | Sentiment: Positive | Review: For the price, this product is unbeatable.\n",
      "Aspect: performance  | Sentiment: Positive | Review: It's fast and handles everything I throw at it.\n",
      "Aspect: design       | Sentiment: Negative | Review: Looks cheap and feels flimsy.\n"
     ]
    }
   ],
   "source": [
    "examples = [\n",
    "    (\"battery\", \"The battery lasts all day and charges quickly.\"),\n",
    "    (\"display\", \"The screen resolution is terrible.\"),\n",
    "    (\"price\", \"For the price, this product is unbeatable.\"),\n",
    "    (\"performance\", \"It's fast and handles everything I throw at it.\"),\n",
    "    (\"design\", \"Looks cheap and feels flimsy.\")\n",
    "]\n",
    "\n",
    "for aspect, review in examples:\n",
    "    sentiment = predict_sentiment(aspect, review)\n",
    "    print(f\"Aspect: {aspect.ljust(12)} | Sentiment: {sentiment} | Review: {review}\")"
   ]
  }
 ],
 "metadata": {},
 "nbformat": 4,
 "nbformat_minor": 5
}
